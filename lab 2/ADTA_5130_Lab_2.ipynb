{
  "cells": [
    {
      "cell_type": "markdown",
      "source": [
        "## ADTA 5130 - Lab 2\n",
        "### Exploratory Data Analysis"
      ],
      "metadata": {
        "id": "vFlhq5CQhEMX"
      },
      "id": "vFlhq5CQhEMX"
    },
    {
      "cell_type": "code",
      "execution_count": 1,
      "id": "7de002b8",
      "metadata": {
        "id": "7de002b8"
      },
      "outputs": [],
      "source": [
        "#Libraries\n",
        "import pandas as pd\n",
        "import numpy as np\n",
        "import matplotlib.pyplot as plt\n",
        "\n",
        "#Read .csv file\n",
        "df = pd.read_csv('nycflights.csv')"
      ]
    },
    {
      "cell_type": "code",
      "execution_count": 2,
      "id": "e751f1e1",
      "metadata": {
        "colab": {
          "base_uri": "https://localhost:8080/"
        },
        "id": "e751f1e1",
        "outputId": "b4b1a1f9-0d84-4db8-db73-bb5c3ff2db9a"
      },
      "outputs": [
        {
          "output_type": "execute_result",
          "data": {
            "text/plain": [
              "Index(['year', 'month', 'day', 'dep_time', 'dep_delay', 'arr_time',\n",
              "       'arr_delay', 'carrier', 'tailnum', 'flight', 'origin', 'dest',\n",
              "       'air_time', 'distance', 'hour', 'minute'],\n",
              "      dtype='object')"
            ]
          },
          "metadata": {},
          "execution_count": 2
        }
      ],
      "source": [
        "#Return column names\n",
        "df.columns"
      ]
    },
    {
      "cell_type": "code",
      "execution_count": 4,
      "id": "5083117d",
      "metadata": {
        "colab": {
          "base_uri": "https://localhost:8080/",
          "height": 334
        },
        "id": "5083117d",
        "outputId": "c66e545b-2d8f-4873-da8b-f33a098308e9"
      },
      "outputs": [
        {
          "output_type": "execute_result",
          "data": {
            "text/plain": [
              "count    32735.000000\n",
              "mean      1046.244051\n",
              "std        733.681907\n",
              "min         94.000000\n",
              "25%        502.000000\n",
              "50%        888.000000\n",
              "75%       1391.000000\n",
              "max       4983.000000\n",
              "Name: distance, dtype: float64"
            ],
            "text/html": [
              "<div>\n",
              "<style scoped>\n",
              "    .dataframe tbody tr th:only-of-type {\n",
              "        vertical-align: middle;\n",
              "    }\n",
              "\n",
              "    .dataframe tbody tr th {\n",
              "        vertical-align: top;\n",
              "    }\n",
              "\n",
              "    .dataframe thead th {\n",
              "        text-align: right;\n",
              "    }\n",
              "</style>\n",
              "<table border=\"1\" class=\"dataframe\">\n",
              "  <thead>\n",
              "    <tr style=\"text-align: right;\">\n",
              "      <th></th>\n",
              "      <th>distance</th>\n",
              "    </tr>\n",
              "  </thead>\n",
              "  <tbody>\n",
              "    <tr>\n",
              "      <th>count</th>\n",
              "      <td>32735.000000</td>\n",
              "    </tr>\n",
              "    <tr>\n",
              "      <th>mean</th>\n",
              "      <td>1046.244051</td>\n",
              "    </tr>\n",
              "    <tr>\n",
              "      <th>std</th>\n",
              "      <td>733.681907</td>\n",
              "    </tr>\n",
              "    <tr>\n",
              "      <th>min</th>\n",
              "      <td>94.000000</td>\n",
              "    </tr>\n",
              "    <tr>\n",
              "      <th>25%</th>\n",
              "      <td>502.000000</td>\n",
              "    </tr>\n",
              "    <tr>\n",
              "      <th>50%</th>\n",
              "      <td>888.000000</td>\n",
              "    </tr>\n",
              "    <tr>\n",
              "      <th>75%</th>\n",
              "      <td>1391.000000</td>\n",
              "    </tr>\n",
              "    <tr>\n",
              "      <th>max</th>\n",
              "      <td>4983.000000</td>\n",
              "    </tr>\n",
              "  </tbody>\n",
              "</table>\n",
              "</div><br><label><b>dtype:</b> float64</label>"
            ]
          },
          "metadata": {},
          "execution_count": 4
        }
      ],
      "source": [
        "#View distance metrics\n",
        "df['distance'].describe()"
      ]
    },
    {
      "cell_type": "code",
      "execution_count": 5,
      "id": "377a6bd7",
      "metadata": {
        "colab": {
          "base_uri": "https://localhost:8080/"
        },
        "id": "377a6bd7",
        "outputId": "71aa4b54-3f68-4ffc-dfe1-625f96864ce9"
      },
      "outputs": [
        {
          "output_type": "execute_result",
          "data": {
            "text/plain": [
              "888.0"
            ]
          },
          "metadata": {},
          "execution_count": 5
        }
      ],
      "source": [
        "#Median\n",
        "df['distance'].median()"
      ]
    },
    {
      "cell_type": "code",
      "execution_count": 6,
      "id": "36aeee86",
      "metadata": {
        "colab": {
          "base_uri": "https://localhost:8080/"
        },
        "id": "36aeee86",
        "outputId": "068107f5-c20b-460d-c71e-b93fc1494325"
      },
      "outputs": [
        {
          "output_type": "execute_result",
          "data": {
            "text/plain": [
              "538289.1411767233"
            ]
          },
          "metadata": {},
          "execution_count": 6
        }
      ],
      "source": [
        "#Variance\n",
        "df['distance'].var()"
      ]
    },
    {
      "cell_type": "code",
      "execution_count": 7,
      "id": "424fc1cd",
      "metadata": {
        "colab": {
          "base_uri": "https://localhost:8080/"
        },
        "id": "424fc1cd",
        "outputId": "8de367c6-0f60-4c7a-de2d-c49686e49072"
      },
      "outputs": [
        {
          "output_type": "execute_result",
          "data": {
            "text/plain": [
              "733.6819073527187"
            ]
          },
          "metadata": {},
          "execution_count": 7
        }
      ],
      "source": [
        "#Standard Deviation\n",
        "df['distance'].std()"
      ]
    },
    {
      "cell_type": "code",
      "execution_count": 8,
      "id": "58514b4d",
      "metadata": {
        "colab": {
          "base_uri": "https://localhost:8080/"
        },
        "id": "58514b4d",
        "outputId": "8ec507d6-28de-4043-881f-ddccf7879265"
      },
      "outputs": [
        {
          "output_type": "stream",
          "name": "stdout",
          "text": [
            "889.0\n"
          ]
        }
      ],
      "source": [
        "#Inter-Quartile Range\n",
        "q75, q25 = np.percentile(df['distance'], [75,25])\n",
        "iqr = q75 - q25\n",
        "print(iqr)"
      ]
    },
    {
      "cell_type": "code",
      "execution_count": 9,
      "id": "4a2eaaba",
      "metadata": {
        "colab": {
          "base_uri": "https://localhost:8080/",
          "height": 447
        },
        "id": "4a2eaaba",
        "outputId": "f4efaae2-be96-45eb-e0f9-8e6d9200ace7"
      },
      "outputs": [
        {
          "output_type": "execute_result",
          "data": {
            "text/plain": [
              "<Axes: >"
            ]
          },
          "metadata": {},
          "execution_count": 9
        },
        {
          "output_type": "display_data",
          "data": {
            "text/plain": [
              "<Figure size 640x480 with 1 Axes>"
            ],
            "image/png": "[encoded data removed]"
          },
          "metadata": {}
        }
      ],
      "source": [
        "#Histogram of distance\n",
        "df['distance'].hist()"
      ]
    },
    {
      "cell_type": "code",
      "execution_count": 11,
      "id": "4f8a9bbc",
      "metadata": {
        "colab": {
          "base_uri": "https://localhost:8080/",
          "height": 489
        },
        "id": "4f8a9bbc",
        "outputId": "1fe3750d-d11b-4ae1-e487-a5d7fc40bebe"
      },
      "outputs": [
        {
          "output_type": "execute_result",
          "data": {
            "text/plain": [
              "<matplotlib.collections.PathCollection at 0x7f9eee02ab50>"
            ]
          },
          "metadata": {},
          "execution_count": 11
        },
        {
          "output_type": "display_data",
          "data": {
            "text/plain": [
              "<Figure size 640x480 with 1 Axes>"
            ],
            "image/png": "[encoded data removed]"
          },
          "metadata": {}
        }
      ],
      "source": [
        "plt.title(\"Scatter plot of Departure Delay vs Arrival Delay\")\n",
        "plt.xlabel(\"Departure Delay\")\n",
        "plt.ylabel(\"Arrival Delay\")\n",
        "plt.scatter(df['dep_delay'],df['arr_delay'])"
      ]
    },
    {
      "cell_type": "code",
      "execution_count": 12,
      "id": "d09f4f03",
      "metadata": {
        "colab": {
          "base_uri": "https://localhost:8080/"
        },
        "id": "d09f4f03",
        "outputId": "aad61e4a-a879-415a-b8f4-7e21614c6e81"
      },
      "outputs": [
        {
          "output_type": "stream",
          "name": "stdout",
          "text": [
            "There are 12799 flights with departure delays.\n"
          ]
        }
      ],
      "source": [
        "#Number of Departure Delays\n",
        "dep_delays_n = (df['dep_delay'] > 0).sum()\n",
        "print(f\"There are {dep_delays_n} flights with departure delays.\")"
      ]
    },
    {
      "cell_type": "code",
      "execution_count": 13,
      "id": "8614b2a2",
      "metadata": {
        "id": "8614b2a2"
      },
      "outputs": [],
      "source": [
        "#Table of Delays\n",
        "df['dep_delay_trans'] = np.where(df['dep_delay'] > 0, 'Delayed Departure', 'Not Delayed Departure')\n",
        "df['arr_delay_trans'] = np.where(df['arr_delay'] > 0, 'Delayed Arrival', 'Not Delayed Arrival')\n",
        "data_crosstab = pd.crosstab(df['arr_delay_trans'],\n",
        "                            df['dep_delay_trans'],\n",
        "                               margins = True)"
      ]
    },
    {
      "cell_type": "code",
      "source": [
        "print(data_crosstab)"
      ],
      "metadata": {
        "colab": {
          "base_uri": "https://localhost:8080/"
        },
        "id": "eNyw0zgciWXe",
        "outputId": "80d8ba52-66aa-4d03-e2ca-e61c3a361434"
      },
      "id": "eNyw0zgciWXe",
      "execution_count": 14,
      "outputs": [
        {
          "output_type": "stream",
          "name": "stdout",
          "text": [
            "dep_delay_trans      Delayed Departure  Not Delayed Departure    All\n",
            "arr_delay_trans                                                     \n",
            "Delayed Arrival                   9291                   4171  13462\n",
            "Not Delayed Arrival               3508                  15765  19273\n",
            "All                              12799                  19936  32735\n"
          ]
        }
      ]
    },
    {
      "cell_type": "code",
      "execution_count": 15,
      "id": "d17b25ff",
      "metadata": {
        "colab": {
          "base_uri": "https://localhost:8080/"
        },
        "id": "d17b25ff",
        "outputId": "20905345-3f43-462c-e9de-0bd7a7ec2552"
      },
      "outputs": [
        {
          "output_type": "stream",
          "name": "stdout",
          "text": [
            "dep_delay_trans      Delayed Departure  Not Delayed Departure       All\n",
            "arr_delay_trans                                                        \n",
            "Delayed Arrival               0.283825               0.127417  0.411242\n",
            "Not Delayed Arrival           0.107164               0.481595  0.588758\n",
            "All                           0.390988               0.609012  1.000000\n"
          ]
        }
      ],
      "source": [
        "#Display table as percentage\n",
        "data_crosstab = pd.crosstab(df['arr_delay_trans'],\n",
        "                            df['dep_delay_trans'],\n",
        "                               margins = True, normalize = True)\n",
        "print(data_crosstab)"
      ]
    },
    {
      "cell_type": "code",
      "execution_count": 16,
      "id": "4d0d27d2",
      "metadata": {
        "colab": {
          "base_uri": "https://localhost:8080/"
        },
        "id": "4d0d27d2",
        "outputId": "18f03afa-ad94-4dfc-9274-18a7cd608f13"
      },
      "outputs": [
        {
          "output_type": "execute_result",
          "data": {
            "text/plain": [
              "np.float64(2.9046098107512215)"
            ]
          },
          "metadata": {},
          "execution_count": 16
        }
      ],
      "source": [
        "#Average Distance Log10\n",
        "df['distance_log10'] = np.log10(df['distance'])\n",
        "df['distance_log10'].mean()"
      ]
    },
    {
      "cell_type": "code",
      "execution_count": 19,
      "id": "f9c0f8eb",
      "metadata": {
        "colab": {
          "base_uri": "https://localhost:8080/",
          "height": 489
        },
        "id": "f9c0f8eb",
        "outputId": "b858cbae-30b7-45c7-8bfc-a824deb28869"
      },
      "outputs": [
        {
          "output_type": "execute_result",
          "data": {
            "text/plain": [
              "<Axes: title={'center': 'Histogram of Minutes per Flight'}, xlabel='Minutes', ylabel='Number of Flights'>"
            ]
          },
          "metadata": {},
          "execution_count": 19
        },
        {
          "output_type": "display_data",
          "data": {
            "text/plain": [
              "<Figure size 640x480 with 1 Axes>"
            ],
            "image/png": "[encoded data removed]"
          },
          "metadata": {}
        }
      ],
      "source": [
        "#Histogram of minutes\n",
        "plt.xlabel(\"Minutes\")\n",
        "plt.ylabel(\"Number of Flights\")\n",
        "plt.title(\"Histogram of Minutes per Flight\")\n",
        "df['minute'].hist()"
      ]
    }
  ],
  "metadata": {
    "kernelspec": {
      "display_name": "Python 3 (ipykernel)",
      "language": "python",
      "name": "python3"
    },
    "language_info": {
      "codemirror_mode": {
        "name": "ipython",
        "version": 3
      },
      "file_extension": ".py",
      "mimetype": "text/x-python",
      "name": "python",
      "nbconvert_exporter": "python",
      "pygments_lexer": "ipython3",
      "version": "3.10.4"
    },
    "colab": {
      "provenance": []
    }
  },
  "nbformat": 4,
  "nbformat_minor": 5
}